{
 "cells": [
  {
   "cell_type": "code",
   "execution_count": 1,
   "metadata": {},
   "outputs": [],
   "source": [
    "import polars as pl"
   ]
  },
  {
   "cell_type": "code",
   "execution_count": 25,
   "metadata": {},
   "outputs": [],
   "source": [
    "def split_coord_ctg_name(df: pl.DataFrame) -> pl.DataFrame:\n",
    "    return (\n",
    "        df.with_columns(split_contig=pl.col(\"contig\").str.split_exact(\":\", n=1))\n",
    "        .unnest(\"split_contig\")\n",
    "        .rename({\"field_0\": \"ctg_name\", \"field_1\":\"ctg_coord\"})\n",
    "        .with_columns(pl.col(\"ctg_coord\").str.split_exact(\"-\", n=1))\n",
    "        .unnest(\"ctg_coord\")\n",
    "        .rename({\"field_0\": \"ctg_start\", \"field_1\":\"ctg_end\"})\n",
    "        .cast({\"ctg_start\": pl.Int64, \"ctg_end\": pl.Int64})\n",
    "    )"
   ]
  },
  {
   "cell_type": "code",
   "execution_count": 26,
   "metadata": {},
   "outputs": [],
   "source": [
    "cols = [\"idx\", \"div\", \"deldiv\", \"insdiv\", \"contig\", \"start\", \"end\", \"left\", \"C\", \"type\", \"rClass\", \"right\", \"x\", \"y\", \"z\", \"other\"]"
   ]
  },
  {
   "cell_type": "code",
   "execution_count": 27,
   "metadata": {},
   "outputs": [],
   "source": [
    "df_new = split_coord_ctg_name(pl.read_csv(\"data/annotations/chm13_chm1_cens_v21.trimmed.fa.noheader_copy.out\", separator=\"\\t\", new_columns=cols, truncate_ragged_lines=True))\n",
    "df_old = split_coord_ctg_name(pl.read_csv(\"data/annotations/chm13_chm1_cens_v21.trimmed.fa.noheader.out\", separator=\"\\t\", new_columns=cols, truncate_ragged_lines=True))"
   ]
  },
  {
   "cell_type": "code",
   "execution_count": 34,
   "metadata": {},
   "outputs": [
    {
     "data": {
      "text/html": [
       "<div><style>\n",
       ".dataframe > thead > tr,\n",
       ".dataframe > tbody > tr {\n",
       "  text-align: right;\n",
       "  white-space: pre-wrap;\n",
       "}\n",
       "</style>\n",
       "<small>shape: (123_712, 19)</small><table border=\"1\" class=\"dataframe\"><thead><tr><th>idx</th><th>div</th><th>deldiv</th><th>insdiv</th><th>contig</th><th>start</th><th>end</th><th>left</th><th>C</th><th>type</th><th>rClass</th><th>right</th><th>x</th><th>y</th><th>z</th><th>other</th><th>ctg_name</th><th>ctg_start</th><th>ctg_end</th></tr><tr><td>i64</td><td>f64</td><td>f64</td><td>f64</td><td>str</td><td>i64</td><td>i64</td><td>str</td><td>str</td><td>str</td><td>str</td><td>str</td><td>i64</td><td>str</td><td>i64</td><td>str</td><td>str</td><td>i64</td><td>i64</td></tr></thead><tbody><tr><td>2126</td><td>23.6</td><td>2.6</td><td>2.2</td><td>&quot;chm1_cen10v8:38450001-42600000&quot;</td><td>304</td><td>809</td><td>&quot;(4149191)&quot;</td><td>&quot;C&quot;</td><td>&quot;MER21C&quot;</td><td>&quot;LTR/ERVL&quot;</td><td>&quot;(404)&quot;</td><td>534</td><td>&quot;27&quot;</td><td>2</td><td>null</td><td>&quot;chm1_cen10v8&quot;</td><td>38450001</td><td>42600000</td></tr><tr><td>1088</td><td>20.4</td><td>0.3</td><td>13.3</td><td>&quot;chm1_cen10v8:38450001-42600000&quot;</td><td>811</td><td>1099</td><td>&quot;(4148901)&quot;</td><td>&quot;C&quot;</td><td>&quot;AluJb&quot;</td><td>&quot;SINE/Alu&quot;</td><td>&quot;(13)&quot;</td><td>299</td><td>&quot;44&quot;</td><td>3</td><td>null</td><td>&quot;chm1_cen10v8&quot;</td><td>38450001</td><td>42600000</td></tr><tr><td>978</td><td>23.6</td><td>0.5</td><td>3.2</td><td>&quot;chm1_cen10v8:38450001-42600000&quot;</td><td>1137</td><td>1359</td><td>&quot;(4148641)&quot;</td><td>&quot;C&quot;</td><td>&quot;AluJb&quot;</td><td>&quot;SINE/Alu&quot;</td><td>&quot;(94)&quot;</td><td>218</td><td>&quot;2&quot;</td><td>4</td><td>null</td><td>&quot;chm1_cen10v8&quot;</td><td>38450001</td><td>42600000</td></tr><tr><td>1491</td><td>19.0</td><td>2.5</td><td>8.0</td><td>&quot;chm1_cen10v8:38450001-42600000&quot;</td><td>1360</td><td>1713</td><td>&quot;(4148287)&quot;</td><td>&quot;+&quot;</td><td>&quot;MLT1D&quot;</td><td>&quot;LTR/ERVL-MaLR&quot;</td><td>&quot;162&quot;</td><td>497</td><td>&quot;(8)&quot;</td><td>5</td><td>null</td><td>&quot;chm1_cen10v8&quot;</td><td>38450001</td><td>42600000</td></tr><tr><td>1647</td><td>18.8</td><td>2.3</td><td>1.3</td><td>&quot;chm1_cen10v8:38450001-42600000&quot;</td><td>1724</td><td>1856</td><td>&quot;(4148144)&quot;</td><td>&quot;+&quot;</td><td>&quot;AluJb&quot;</td><td>&quot;SINE/Alu&quot;</td><td>&quot;2&quot;</td><td>135</td><td>&quot;(177)&quot;</td><td>6</td><td>null</td><td>&quot;chm1_cen10v8&quot;</td><td>38450001</td><td>42600000</td></tr><tr><td>&hellip;</td><td>&hellip;</td><td>&hellip;</td><td>&hellip;</td><td>&hellip;</td><td>&hellip;</td><td>&hellip;</td><td>&hellip;</td><td>&hellip;</td><td>&hellip;</td><td>&hellip;</td><td>&hellip;</td><td>&hellip;</td><td>&hellip;</td><td>&hellip;</td><td>&hellip;</td><td>&hellip;</td><td>&hellip;</td><td>&hellip;</td></tr><tr><td>2710</td><td>1.3</td><td>0.0</td><td>0.0</td><td>&quot;chm13_chrX:56950001-61750000&quot;</td><td>4793599</td><td>4793908</td><td>&quot;(6092)&quot;</td><td>&quot;C&quot;</td><td>&quot;L1PA2&quot;</td><td>&quot;LINE/L1&quot;</td><td>&quot;(4)&quot;</td><td>6151</td><td>&quot;5842&quot;</td><td>109281</td><td>null</td><td>&quot;chm13_chrX&quot;</td><td>56950001</td><td>61750000</td></tr><tr><td>9867</td><td>1.7</td><td>0.1</td><td>0.0</td><td>&quot;chm13_chrX:56950001-61750000&quot;</td><td>4793909</td><td>4795709</td><td>&quot;(4291)&quot;</td><td>&quot;+&quot;</td><td>&quot;L1HS&quot;</td><td>&quot;LINE/L1&quot;</td><td>&quot;1058&quot;</td><td>2861</td><td>&quot;(3285)&quot;</td><td>109282</td><td>null</td><td>&quot;chm13_chrX&quot;</td><td>56950001</td><td>61750000</td></tr><tr><td>719</td><td>8.0</td><td>0.0</td><td>9.7</td><td>&quot;chm13_chrX:56950001-61750000&quot;</td><td>4795709</td><td>4795833</td><td>&quot;(4167)&quot;</td><td>&quot;+&quot;</td><td>&quot;L1PA12&quot;</td><td>&quot;LINE/L1&quot;</td><td>&quot;4581&quot;</td><td>4694</td><td>&quot;(1452)&quot;</td><td>109280</td><td>&quot;*&quot;</td><td>&quot;chm13_chrX&quot;</td><td>56950001</td><td>61750000</td></tr><tr><td>5160</td><td>10.3</td><td>4.5</td><td>0.2</td><td>&quot;chm13_chrX:56950001-61750000&quot;</td><td>4795871</td><td>4797284</td><td>&quot;(2716)&quot;</td><td>&quot;+&quot;</td><td>&quot;L1PA12&quot;</td><td>&quot;LINE/L1&quot;</td><td>&quot;4694&quot;</td><td>6168</td><td>&quot;(0)&quot;</td><td>109280</td><td>null</td><td>&quot;chm13_chrX&quot;</td><td>56950001</td><td>61750000</td></tr><tr><td>13888</td><td>18.4</td><td>3.4</td><td>0.4</td><td>&quot;chm13_chrX:56950001-61750000&quot;</td><td>4797287</td><td>4800000</td><td>&quot;(0)&quot;</td><td>&quot;+&quot;</td><td>&quot;ERVL-int&quot;</td><td>&quot;LTR/ERVL&quot;</td><td>&quot;387&quot;</td><td>3182</td><td>&quot;(2575)&quot;</td><td>109279</td><td>null</td><td>&quot;chm13_chrX&quot;</td><td>56950001</td><td>61750000</td></tr></tbody></table></div>"
      ],
      "text/plain": [
       "shape: (123_712, 19)\n",
       "┌───────┬──────┬────────┬────────┬───┬───────┬──────────────┬───────────┬──────────┐\n",
       "│ idx   ┆ div  ┆ deldiv ┆ insdiv ┆ … ┆ other ┆ ctg_name     ┆ ctg_start ┆ ctg_end  │\n",
       "│ ---   ┆ ---  ┆ ---    ┆ ---    ┆   ┆ ---   ┆ ---          ┆ ---       ┆ ---      │\n",
       "│ i64   ┆ f64  ┆ f64    ┆ f64    ┆   ┆ str   ┆ str          ┆ i64       ┆ i64      │\n",
       "╞═══════╪══════╪════════╪════════╪═══╪═══════╪══════════════╪═══════════╪══════════╡\n",
       "│ 2126  ┆ 23.6 ┆ 2.6    ┆ 2.2    ┆ … ┆ null  ┆ chm1_cen10v8 ┆ 38450001  ┆ 42600000 │\n",
       "│ 1088  ┆ 20.4 ┆ 0.3    ┆ 13.3   ┆ … ┆ null  ┆ chm1_cen10v8 ┆ 38450001  ┆ 42600000 │\n",
       "│ 978   ┆ 23.6 ┆ 0.5    ┆ 3.2    ┆ … ┆ null  ┆ chm1_cen10v8 ┆ 38450001  ┆ 42600000 │\n",
       "│ 1491  ┆ 19.0 ┆ 2.5    ┆ 8.0    ┆ … ┆ null  ┆ chm1_cen10v8 ┆ 38450001  ┆ 42600000 │\n",
       "│ 1647  ┆ 18.8 ┆ 2.3    ┆ 1.3    ┆ … ┆ null  ┆ chm1_cen10v8 ┆ 38450001  ┆ 42600000 │\n",
       "│ …     ┆ …    ┆ …      ┆ …      ┆ … ┆ …     ┆ …            ┆ …         ┆ …        │\n",
       "│ 2710  ┆ 1.3  ┆ 0.0    ┆ 0.0    ┆ … ┆ null  ┆ chm13_chrX   ┆ 56950001  ┆ 61750000 │\n",
       "│ 9867  ┆ 1.7  ┆ 0.1    ┆ 0.0    ┆ … ┆ null  ┆ chm13_chrX   ┆ 56950001  ┆ 61750000 │\n",
       "│ 719   ┆ 8.0  ┆ 0.0    ┆ 9.7    ┆ … ┆ *     ┆ chm13_chrX   ┆ 56950001  ┆ 61750000 │\n",
       "│ 5160  ┆ 10.3 ┆ 4.5    ┆ 0.2    ┆ … ┆ null  ┆ chm13_chrX   ┆ 56950001  ┆ 61750000 │\n",
       "│ 13888 ┆ 18.4 ┆ 3.4    ┆ 0.4    ┆ … ┆ null  ┆ chm13_chrX   ┆ 56950001  ┆ 61750000 │\n",
       "└───────┴──────┴────────┴────────┴───┴───────┴──────────────┴───────────┴──────────┘"
      ]
     },
     "execution_count": 34,
     "metadata": {},
     "output_type": "execute_result"
    }
   ],
   "source": [
    "df_new"
   ]
  },
  {
   "cell_type": "code",
   "execution_count": 29,
   "metadata": {},
   "outputs": [
    {
     "name": "stdout",
     "output_type": "stream",
     "text": [
      "chm13_chr20:25800001-32500000\n",
      "chm13_chrX:56950001-61750000\n",
      "chm13_chr5:45650001-51600000\n",
      "chm13_chr15:13500001-18250000\n",
      "chm13_chr16:32400001-38950000\n",
      "chm13_chr2:91800001-95600000\n",
      "chm13_chr22:8000001-17400000\n",
      "chm13_chr18:15050001-21650000\n",
      "chm13_chr13:10650001-18100000\n",
      "chm13_chr21:7700001-11850000\n",
      "chm13_chr7:57650001-64700000\n",
      "chm13_chr10:38500001-42550000\n",
      "chm13_chr3:89850001-97000000\n",
      "chm13_chr11:48300001-55700000\n",
      "chm13_chr14:5600001-13300000\n",
      "chm13_chr6:57750001-63100000\n",
      "chm13_chr1:121100001-127300000\n",
      "chm13_chr19:23850001-30750000\n",
      "chm13_chr12:33800001-38500000\n",
      "chm13_chr9:44200001-48100000\n",
      "chm13_chr8:43350001-47450000\n",
      "chm13_chr4:49200001-55800000\n",
      "chm13_chr17:22850001-28650000\n"
     ]
    }
   ],
   "source": [
    "dfs = []\n",
    "for c, df_c_new in df_new.filter(pl.col(\"contig\").str.starts_with(\"chm13\")).group_by([\"contig\"]):\n",
    "    c = c[0]\n",
    "    df_c_old = df_old.filter(pl.col(\"contig\") == c)\n",
    "\n",
    "    min_old_start = df_c_old[\"start\"].min()\n",
    "    max_old_stop = df_c_old[\"end\"].max()\n",
    "\n",
    "    min_new_start = df_c_new[\"start\"].min()\n",
    "    max_new_stop = df_c_new[\"end\"].max()\n",
    "\n",
    "    print(c)\n",
    "    if min_old_start != min_new_start:\n",
    "        add_to_ctg_start = min_new_start - min_old_start\n",
    "        df_c_new = df_c_new.with_columns(\n",
    "            pl.col(\"start\") - min_new_start,\n",
    "            pl.col(\"end\") - min_new_start,\n",
    "            pl.col(\"ctg_start\") + add_to_ctg_start\n",
    "        )\n",
    "    if max_old_stop != max_new_stop:\n",
    "        sub_to_ctg_end = max_old_stop - max_new_stop\n",
    "        df_c_new = df_c_new.with_columns(pl.col(\"ctg_end\") - sub_to_ctg_end)\n",
    "    \n",
    "    dfs.append(df_c_new)"
   ]
  },
  {
   "cell_type": "code",
   "execution_count": 37,
   "metadata": {},
   "outputs": [
    {
     "data": {
      "text/html": [
       "<div><style>\n",
       ".dataframe > thead > tr,\n",
       ".dataframe > tbody > tr {\n",
       "  text-align: right;\n",
       "  white-space: pre-wrap;\n",
       "}\n",
       "</style>\n",
       "<small>shape: (47_328, 16)</small><table border=\"1\" class=\"dataframe\"><thead><tr><th>idx</th><th>div</th><th>deldiv</th><th>insdiv</th><th>contig</th><th>start</th><th>end</th><th>left</th><th>C</th><th>type</th><th>rClass</th><th>right</th><th>x</th><th>y</th><th>z</th><th>other</th></tr><tr><td>i64</td><td>f64</td><td>f64</td><td>f64</td><td>str</td><td>i64</td><td>i64</td><td>str</td><td>str</td><td>str</td><td>str</td><td>str</td><td>i64</td><td>str</td><td>i64</td><td>str</td></tr></thead><tbody><tr><td>661</td><td>18.3</td><td>4.8</td><td>16.5</td><td>&quot;chm13_chr20:25800001-30050963&quot;</td><td>1141</td><td>1409</td><td>&quot;(6698591)&quot;</td><td>&quot;C&quot;</td><td>&quot;L1MA9&quot;</td><td>&quot;LINE/L1&quot;</td><td>&quot;(1)&quot;</td><td>6311</td><td>&quot;6070&quot;</td><td>82316</td><td>null</td></tr><tr><td>1287</td><td>21.5</td><td>3.9</td><td>0.3</td><td>&quot;chm13_chr20:25800001-30050963&quot;</td><td>1427</td><td>1706</td><td>&quot;(6698294)&quot;</td><td>&quot;C&quot;</td><td>&quot;AluJb&quot;</td><td>&quot;SINE/Alu&quot;</td><td>&quot;(11)&quot;</td><td>301</td><td>&quot;12&quot;</td><td>82317</td><td>null</td></tr><tr><td>3549</td><td>19.7</td><td>8.0</td><td>2.8</td><td>&quot;chm13_chr20:25800001-30050963&quot;</td><td>1722</td><td>2873</td><td>&quot;(6697127)&quot;</td><td>&quot;C&quot;</td><td>&quot;L1MA9&quot;</td><td>&quot;LINE/L1&quot;</td><td>&quot;(533)&quot;</td><td>5779</td><td>&quot;4582&quot;</td><td>82316</td><td>null</td></tr><tr><td>2086</td><td>10.7</td><td>0.0</td><td>3.7</td><td>&quot;chm13_chr20:25800001-30050963&quot;</td><td>2874</td><td>3183</td><td>&quot;(6696817)&quot;</td><td>&quot;C&quot;</td><td>&quot;AluSx&quot;</td><td>&quot;SINE/Alu&quot;</td><td>&quot;(11)&quot;</td><td>301</td><td>&quot;3&quot;</td><td>82318</td><td>null</td></tr><tr><td>3549</td><td>20.9</td><td>5.9</td><td>3.9</td><td>&quot;chm13_chr20:25800001-30050963&quot;</td><td>3184</td><td>3495</td><td>&quot;(6696505)&quot;</td><td>&quot;C&quot;</td><td>&quot;L1MA9&quot;</td><td>&quot;LINE/L1&quot;</td><td>&quot;(1559)&quot;</td><td>4581</td><td>&quot;4249&quot;</td><td>82316</td><td>null</td></tr><tr><td>&hellip;</td><td>&hellip;</td><td>&hellip;</td><td>&hellip;</td><td>&hellip;</td><td>&hellip;</td><td>&hellip;</td><td>&hellip;</td><td>&hellip;</td><td>&hellip;</td><td>&hellip;</td><td>&hellip;</td><td>&hellip;</td><td>&hellip;</td><td>&hellip;</td><td>&hellip;</td></tr><tr><td>278</td><td>29.4</td><td>2.8</td><td>11.1</td><td>&quot;chm13_chr17:22850001-28101270&quot;</td><td>5248173</td><td>5248386</td><td>&quot;(551614)&quot;</td><td>&quot;+&quot;</td><td>&quot;SST1&quot;</td><td>&quot;Satellite/centr&quot;</td><td>&quot;770&quot;</td><td>967</td><td>&quot;(596)&quot;</td><td>77081</td><td>null</td></tr><tr><td>30</td><td>15.5</td><td>4.5</td><td>1.5</td><td>&quot;chm13_chr17:22850001-28101270&quot;</td><td>5248669</td><td>5248734</td><td>&quot;(551266)&quot;</td><td>&quot;+&quot;</td><td>&quot;(CA)n&quot;</td><td>&quot;Simple_repeat&quot;</td><td>&quot;1&quot;</td><td>68</td><td>&quot;(0)&quot;</td><td>77082</td><td>null</td></tr><tr><td>722</td><td>27.9</td><td>6.8</td><td>6.8</td><td>&quot;chm13_chr17:22850001-28101270&quot;</td><td>5248735</td><td>5249161</td><td>&quot;(550839)&quot;</td><td>&quot;C&quot;</td><td>&quot;SST1&quot;</td><td>&quot;Satellite/centr&quot;</td><td>&quot;(11)&quot;</td><td>1552</td><td>&quot;1126&quot;</td><td>77083</td><td>null</td></tr><tr><td>1149</td><td>28.3</td><td>4.2</td><td>3.7</td><td>&quot;chm13_chr17:22850001-28101270&quot;</td><td>5249572</td><td>5250188</td><td>&quot;(549812)&quot;</td><td>&quot;C&quot;</td><td>&quot;SST1&quot;</td><td>&quot;Satellite/centr&quot;</td><td>&quot;(904)&quot;</td><td>659</td><td>&quot;40&quot;</td><td>77083</td><td>null</td></tr><tr><td>824</td><td>19.4</td><td>0.6</td><td>0.0</td><td>&quot;chm13_chr17:22850001-28101270&quot;</td><td>5250211</td><td>5250542</td><td>&quot;(549458)&quot;</td><td>&quot;+&quot;</td><td>&quot;ALR/Alpha&quot;</td><td>&quot;Satellite/centr&quot;</td><td>&quot;1&quot;</td><td>334</td><td>&quot;(0)&quot;</td><td>77084</td><td>null</td></tr></tbody></table></div>"
      ],
      "text/plain": [
       "shape: (47_328, 16)\n",
       "┌──────┬──────┬────────┬────────┬───┬──────┬───────┬───────┬───────┐\n",
       "│ idx  ┆ div  ┆ deldiv ┆ insdiv ┆ … ┆ x    ┆ y     ┆ z     ┆ other │\n",
       "│ ---  ┆ ---  ┆ ---    ┆ ---    ┆   ┆ ---  ┆ ---   ┆ ---   ┆ ---   │\n",
       "│ i64  ┆ f64  ┆ f64    ┆ f64    ┆   ┆ i64  ┆ str   ┆ i64   ┆ str   │\n",
       "╞══════╪══════╪════════╪════════╪═══╪══════╪═══════╪═══════╪═══════╡\n",
       "│ 661  ┆ 18.3 ┆ 4.8    ┆ 16.5   ┆ … ┆ 6311 ┆ 6070  ┆ 82316 ┆ null  │\n",
       "│ 1287 ┆ 21.5 ┆ 3.9    ┆ 0.3    ┆ … ┆ 301  ┆ 12    ┆ 82317 ┆ null  │\n",
       "│ 3549 ┆ 19.7 ┆ 8.0    ┆ 2.8    ┆ … ┆ 5779 ┆ 4582  ┆ 82316 ┆ null  │\n",
       "│ 2086 ┆ 10.7 ┆ 0.0    ┆ 3.7    ┆ … ┆ 301  ┆ 3     ┆ 82318 ┆ null  │\n",
       "│ 3549 ┆ 20.9 ┆ 5.9    ┆ 3.9    ┆ … ┆ 4581 ┆ 4249  ┆ 82316 ┆ null  │\n",
       "│ …    ┆ …    ┆ …      ┆ …      ┆ … ┆ …    ┆ …     ┆ …     ┆ …     │\n",
       "│ 278  ┆ 29.4 ┆ 2.8    ┆ 11.1   ┆ … ┆ 967  ┆ (596) ┆ 77081 ┆ null  │\n",
       "│ 30   ┆ 15.5 ┆ 4.5    ┆ 1.5    ┆ … ┆ 68   ┆ (0)   ┆ 77082 ┆ null  │\n",
       "│ 722  ┆ 27.9 ┆ 6.8    ┆ 6.8    ┆ … ┆ 1552 ┆ 1126  ┆ 77083 ┆ null  │\n",
       "│ 1149 ┆ 28.3 ┆ 4.2    ┆ 3.7    ┆ … ┆ 659  ┆ 40    ┆ 77083 ┆ null  │\n",
       "│ 824  ┆ 19.4 ┆ 0.6    ┆ 0.0    ┆ … ┆ 334  ┆ (0)   ┆ 77084 ┆ null  │\n",
       "└──────┴──────┴────────┴────────┴───┴──────┴───────┴───────┴───────┘"
      ]
     },
     "execution_count": 37,
     "metadata": {},
     "output_type": "execute_result"
    }
   ],
   "source": [
    "df_chm13_new = pl.concat(dfs).with_columns(contig=pl.col(\"ctg_name\") + \":\" + pl.col(\"ctg_start\").cast(pl.String) + \"-\" + pl.col(\"ctg_end\").cast(pl.String)).drop(\"ctg_name\", \"ctg_start\", \"ctg_end\")\n",
    "df_chm13_new"
   ]
  },
  {
   "cell_type": "code",
   "execution_count": 41,
   "metadata": {},
   "outputs": [],
   "source": [
    "pl.concat([\n",
    "    df_new.filter(~pl.col(\"contig\").str.starts_with(\"chm13\")).drop(\"ctg_name\", \"ctg_start\", \"ctg_end\"),\n",
    "    df_chm13_new\n",
    "]).write_csv(\"data/annotations/chm13_chm1_cens_v21.trimmed.fa.noheader.refmt.out\", separator=\"\\t\", include_header=False)"
   ]
  }
 ],
 "metadata": {
  "kernelspec": {
   "display_name": "jupyter",
   "language": "python",
   "name": "python3"
  },
  "language_info": {
   "codemirror_mode": {
    "name": "ipython",
    "version": 3
   },
   "file_extension": ".py",
   "mimetype": "text/x-python",
   "name": "python",
   "nbconvert_exporter": "python",
   "pygments_lexer": "ipython3",
   "version": "3.12.0"
  }
 },
 "nbformat": 4,
 "nbformat_minor": 2
}
